{
 "cells": [
  {
   "cell_type": "code",
   "execution_count": 1,
   "metadata": {},
   "outputs": [],
   "source": [
    "#librerias previas\n",
    "\n",
    "import cv2\n",
    "import numpy as np\n",
    "from tensorflow.keras.preprocessing.image import load_img, img_to_array\n",
    "from tensorflow.keras.models import load_model\n",
    "\n"
   ]
  },
  {
   "cell_type": "code",
   "execution_count": 2,
   "metadata": {},
   "outputs": [],
   "source": [
    "#preparamos el modelo de haarcascade para reconocimiento facial\n",
    "cap = cv2.VideoCapture(0)\n",
    "faceClassif = cv2.CascadeClassifier('haarcascade_righteye_2splits.xml')"
   ]
  },
  {
   "cell_type": "code",
   "execution_count": null,
   "metadata": {},
   "outputs": [],
   "source": [
    "#analizis en tiempo real de un rostro\n",
    "while True:\n",
    "    ret,frame = cap.read()\n",
    "    gray = cv2.cvtColor(frame, cv2.COLOR_BGR2GRAY)\n",
    "\n",
    "    faces = faceClassif.detectMultiScale(gray, 1.3, 5)\n",
    "\n",
    "    impar = True\n",
    "    \n",
    "    for (x,y,w,h) in faces:\n",
    "        if impar:\n",
    "            #normal\n",
    "            #cv2.rectangle(frame, (x,y),(x+w,y+h),(0,0,255),2)\n",
    "            #eye tree eyeglasse\n",
    "            #cv2.rectangle(frame, (x-w,y-(3*h)),(x+w+(4*w),y+(5*h)),(0,0,255),2)\n",
    "            #rigth eye\n",
    "            cv2.rectangle(frame, (x-w,y-(2*h)),(x+w+(3*w),y+(4*h)),(0,0,255),2)\n",
    "            \n",
    "        impar = not (impar)\n",
    "        \n",
    "    cv2.imshow('frame',frame)\n",
    "  \n",
    "    if cv2.waitKey(1) & 0xFF == ord('q'):\n",
    "        cap.release()\n",
    "        cv2.destroyAllWindows()\n",
    "        break"
   ]
  }
 ],
 "metadata": {
  "kernelspec": {
   "display_name": "Python 3",
   "language": "python",
   "name": "python3"
  },
  "language_info": {
   "codemirror_mode": {
    "name": "ipython",
    "version": 3
   },
   "file_extension": ".py",
   "mimetype": "text/x-python",
   "name": "python",
   "nbconvert_exporter": "python",
   "pygments_lexer": "ipython3",
   "version": "3.7.6"
  }
 },
 "nbformat": 4,
 "nbformat_minor": 4
}
